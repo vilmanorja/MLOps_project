{
 "cells": [
  {
   "cell_type": "code",
   "execution_count": 2,
   "id": "72946e72",
   "metadata": {},
   "outputs": [],
   "source": [
    "import pandas as pd\n",
    "from typing import Any, Optional\n",
    "import pandas as pd\n",
    "import re\n",
    "import os\n",
    "from datetime import datetime,timedelta"
   ]
  },
  {
   "cell_type": "code",
   "execution_count": 5,
   "id": "32761359",
   "metadata": {},
   "outputs": [],
   "source": [
    "import chardet"
   ]
  },
  {
   "cell_type": "code",
   "execution_count": 6,
   "id": "e0547d37",
   "metadata": {},
   "outputs": [],
   "source": [
    "full_path = os.getcwd()"
   ]
  },
  {
   "cell_type": "code",
   "execution_count": 18,
   "id": "32d7b0ac",
   "metadata": {},
   "outputs": [
    {
     "name": "stdout",
     "output_type": "stream",
     "text": [
      "ISO-8859-1\n"
     ]
    }
   ],
   "source": [
    "with open(full_path.partition('notebooks')[0] + '/data/02_intermediate/customers_validated.csv', \"rb\") as f:\n",
    "    result = chardet.detect(f.read(5000))\n",
    "    print(result['encoding'])"
   ]
  },
  {
   "cell_type": "code",
   "execution_count": 44,
   "id": "04e0ea67",
   "metadata": {},
   "outputs": [],
   "source": [
    "import warnings\n",
    "warnings.filterwarnings(\"ignore\")"
   ]
  },
  {
   "cell_type": "markdown",
   "id": "9cffc79d",
   "metadata": {},
   "source": [
    "## 1. Importing the Customers dataset"
   ]
  },
  {
   "cell_type": "code",
   "execution_count": 21,
   "id": "74ea67a9",
   "metadata": {},
   "outputs": [],
   "source": [
    "\n",
    "customers = pd.read_csv(full_path.partition('notebooks')[0] + '/data/02_intermediate/customers_validated.csv', encoding=\"ISO-8859-1\")\n"
   ]
  },
  {
   "cell_type": "code",
   "execution_count": 23,
   "id": "e815638a",
   "metadata": {},
   "outputs": [
    {
     "data": {
      "text/html": [
       "<div>\n",
       "<style scoped>\n",
       "    .dataframe tbody tr th:only-of-type {\n",
       "        vertical-align: middle;\n",
       "    }\n",
       "\n",
       "    .dataframe tbody tr th {\n",
       "        vertical-align: top;\n",
       "    }\n",
       "\n",
       "    .dataframe thead th {\n",
       "        text-align: right;\n",
       "    }\n",
       "</style>\n",
       "<table border=\"1\" class=\"dataframe\">\n",
       "  <thead>\n",
       "    <tr style=\"text-align: right;\">\n",
       "      <th></th>\n",
       "      <th>index</th>\n",
       "      <th>NewId</th>\n",
       "      <th>CustomerSince</th>\n",
       "      <th>CustomerStatus</th>\n",
       "      <th>DateOfBirth</th>\n",
       "      <th>EmploymentStatus</th>\n",
       "      <th>Gender</th>\n",
       "      <th>MaritalStatus</th>\n",
       "      <th>Placebrth</th>\n",
       "      <th>CustType</th>\n",
       "      <th>...</th>\n",
       "      <th>Habliter</th>\n",
       "      <th>Province</th>\n",
       "      <th>District</th>\n",
       "      <th>LegalDocName1Id</th>\n",
       "      <th>LegalDocName1IdDescription</th>\n",
       "      <th>LegalIssDate</th>\n",
       "      <th>LegalExpDate</th>\n",
       "      <th>LegalIssAuth</th>\n",
       "      <th>AMLRiskRating</th>\n",
       "      <th>YrNetMonthlyIn</th>\n",
       "    </tr>\n",
       "  </thead>\n",
       "  <tbody>\n",
       "    <tr>\n",
       "      <th>122207</th>\n",
       "      <td>122207</td>\n",
       "      <td>122208</td>\n",
       "      <td>2016-11-29</td>\n",
       "      <td>Private Client - Standard</td>\n",
       "      <td>1973-01-16</td>\n",
       "      <td>EMPLOYED</td>\n",
       "      <td>MALE</td>\n",
       "      <td>DIVORCED</td>\n",
       "      <td>ISRAEL</td>\n",
       "      <td>RETAIL</td>\n",
       "      <td>...</td>\n",
       "      <td>Curso Superior</td>\n",
       "      <td>CABO DELGADO</td>\n",
       "      <td>MAHATE</td>\n",
       "      <td>2.0</td>\n",
       "      <td>DIRE</td>\n",
       "      <td>20240726ý20250520ý20250520</td>\n",
       "      <td>20250725ý20280519ý20280519</td>\n",
       "      <td>MIGRACAOýMAIRRO MAHATEýREEF INVESTIMENTOS</td>\n",
       "      <td>Baixo</td>\n",
       "      <td>346500.0</td>\n",
       "    </tr>\n",
       "    <tr>\n",
       "      <th>122208</th>\n",
       "      <td>122208</td>\n",
       "      <td>122209</td>\n",
       "      <td>2021-07-23</td>\n",
       "      <td>Private Client - Standard</td>\n",
       "      <td>1978-01-10</td>\n",
       "      <td>EMPLOYED</td>\n",
       "      <td>MALE</td>\n",
       "      <td>SINGLE</td>\n",
       "      <td>ZIMBABWE</td>\n",
       "      <td>NaN</td>\n",
       "      <td>...</td>\n",
       "      <td>NaN</td>\n",
       "      <td>MAPUTO</td>\n",
       "      <td>MATOLA 'A'</td>\n",
       "      <td>3.0</td>\n",
       "      <td>Passaporte</td>\n",
       "      <td>20170614</td>\n",
       "      <td>20270613</td>\n",
       "      <td>REPUBLIC OF ZIMBABWE</td>\n",
       "      <td>Medio</td>\n",
       "      <td>3000.0</td>\n",
       "    </tr>\n",
       "    <tr>\n",
       "      <th>122209</th>\n",
       "      <td>122209</td>\n",
       "      <td>122210</td>\n",
       "      <td>2017-12-04</td>\n",
       "      <td>Private Client - Standard</td>\n",
       "      <td>1964-01-16</td>\n",
       "      <td>MB</td>\n",
       "      <td>MALE</td>\n",
       "      <td>DIVORCED</td>\n",
       "      <td>HLATHIKHULU</td>\n",
       "      <td>RETAIL</td>\n",
       "      <td>...</td>\n",
       "      <td>NaN</td>\n",
       "      <td>NaN</td>\n",
       "      <td>NaN</td>\n",
       "      <td>3.0</td>\n",
       "      <td>Passaporte</td>\n",
       "      <td>20161013</td>\n",
       "      <td>20261012</td>\n",
       "      <td>NaN</td>\n",
       "      <td>Baixo</td>\n",
       "      <td>NaN</td>\n",
       "    </tr>\n",
       "    <tr>\n",
       "      <th>122210</th>\n",
       "      <td>122210</td>\n",
       "      <td>122211</td>\n",
       "      <td>2017-12-04</td>\n",
       "      <td>Corporate - Small</td>\n",
       "      <td>NaN</td>\n",
       "      <td>NaN</td>\n",
       "      <td>NaN</td>\n",
       "      <td>NaN</td>\n",
       "      <td>NaN</td>\n",
       "      <td>RETAIL</td>\n",
       "      <td>...</td>\n",
       "      <td>NaN</td>\n",
       "      <td>CIDADE DE MAPUTO</td>\n",
       "      <td>BAIRRO DE SOMMERSHIELD</td>\n",
       "      <td>24.0</td>\n",
       "      <td>Certidao da Conservatoria de Regist</td>\n",
       "      <td>20151120ý20171206</td>\n",
       "      <td>20991120ý20991206</td>\n",
       "      <td>CONSERVATORIAýDIRECCAO DE CULTURA</td>\n",
       "      <td>Baixo</td>\n",
       "      <td>NaN</td>\n",
       "    </tr>\n",
       "    <tr>\n",
       "      <th>122211</th>\n",
       "      <td>122211</td>\n",
       "      <td>122212</td>\n",
       "      <td>2012-06-21</td>\n",
       "      <td>Private Client - Standard</td>\n",
       "      <td>2007-07-24</td>\n",
       "      <td>NaN</td>\n",
       "      <td>MALE</td>\n",
       "      <td>SINGLE</td>\n",
       "      <td>MAPUTO</td>\n",
       "      <td>RETAIL</td>\n",
       "      <td>...</td>\n",
       "      <td>Ensino Primario</td>\n",
       "      <td>CIDADE DE MAPUTO</td>\n",
       "      <td>HULENE 'A'</td>\n",
       "      <td>1.0</td>\n",
       "      <td>BI</td>\n",
       "      <td>20210728</td>\n",
       "      <td>20260727</td>\n",
       "      <td>DNIC MAPUTO</td>\n",
       "      <td>Elevado</td>\n",
       "      <td>NaN</td>\n",
       "    </tr>\n",
       "  </tbody>\n",
       "</table>\n",
       "<p>5 rows × 33 columns</p>\n",
       "</div>"
      ],
      "text/plain": [
       "         index   NewId CustomerSince             CustomerStatus DateOfBirth  \\\n",
       "122207  122207  122208    2016-11-29  Private Client - Standard  1973-01-16   \n",
       "122208  122208  122209    2021-07-23  Private Client - Standard  1978-01-10   \n",
       "122209  122209  122210    2017-12-04  Private Client - Standard  1964-01-16   \n",
       "122210  122210  122211    2017-12-04          Corporate - Small         NaN   \n",
       "122211  122211  122212    2012-06-21  Private Client - Standard  2007-07-24   \n",
       "\n",
       "       EmploymentStatus Gender MaritalStatus    Placebrth CustType  ...  \\\n",
       "122207         EMPLOYED   MALE      DIVORCED       ISRAEL   RETAIL  ...   \n",
       "122208         EMPLOYED   MALE        SINGLE     ZIMBABWE      NaN  ...   \n",
       "122209               MB   MALE      DIVORCED  HLATHIKHULU   RETAIL  ...   \n",
       "122210              NaN    NaN           NaN          NaN   RETAIL  ...   \n",
       "122211              NaN   MALE        SINGLE       MAPUTO   RETAIL  ...   \n",
       "\n",
       "               Habliter          Province                District  \\\n",
       "122207   Curso Superior      CABO DELGADO                  MAHATE   \n",
       "122208              NaN            MAPUTO              MATOLA 'A'   \n",
       "122209              NaN               NaN                     NaN   \n",
       "122210              NaN  CIDADE DE MAPUTO  BAIRRO DE SOMMERSHIELD   \n",
       "122211  Ensino Primario  CIDADE DE MAPUTO              HULENE 'A'   \n",
       "\n",
       "       LegalDocName1Id           LegalDocName1IdDescription  \\\n",
       "122207             2.0                                 DIRE   \n",
       "122208             3.0                           Passaporte   \n",
       "122209             3.0                           Passaporte   \n",
       "122210            24.0  Certidao da Conservatoria de Regist   \n",
       "122211             1.0                                   BI   \n",
       "\n",
       "                      LegalIssDate                LegalExpDate  \\\n",
       "122207  20240726ý20250520ý20250520  20250725ý20280519ý20280519   \n",
       "122208                    20170614                    20270613   \n",
       "122209                    20161013                    20261012   \n",
       "122210           20151120ý20171206           20991120ý20991206   \n",
       "122211                    20210728                    20260727   \n",
       "\n",
       "                                     LegalIssAuth AMLRiskRating YrNetMonthlyIn  \n",
       "122207  MIGRACAOýMAIRRO MAHATEýREEF INVESTIMENTOS         Baixo       346500.0  \n",
       "122208                       REPUBLIC OF ZIMBABWE         Medio         3000.0  \n",
       "122209                                        NaN         Baixo            NaN  \n",
       "122210          CONSERVATORIAýDIRECCAO DE CULTURA         Baixo            NaN  \n",
       "122211                                DNIC MAPUTO       Elevado            NaN  \n",
       "\n",
       "[5 rows x 33 columns]"
      ]
     },
     "execution_count": 23,
     "metadata": {},
     "output_type": "execute_result"
    }
   ],
   "source": [
    "customers.tail()\n"
   ]
  },
  {
   "cell_type": "code",
   "execution_count": 26,
   "id": "50d8a400",
   "metadata": {},
   "outputs": [
    {
     "data": {
      "text/plain": [
       "Index(['index', 'NewId', 'CustomerSince', 'CustomerStatus', 'DateOfBirth',\n",
       "       'EmploymentStatus', 'Gender', 'MaritalStatus', 'Placebrth', 'CustType',\n",
       "       'Nationality', 'NoOfDependents', 'OcupationDesc', 'ResidenceCode',\n",
       "       'ResidenceStatus', 'ResidenceType', 'SegmentId', 'SegGroup', 'Title',\n",
       "       'TownCountry', 'BirthInCorpDate', 'CustType.1', 'IndustryId',\n",
       "       'Habliter', 'Province', 'District', 'LegalDocName1Id',\n",
       "       'LegalDocName1IdDescription', 'LegalIssDate', 'LegalExpDate',\n",
       "       'LegalIssAuth', 'AMLRiskRating', 'YrNetMonthlyIn'],\n",
       "      dtype='object')"
      ]
     },
     "execution_count": 26,
     "metadata": {},
     "output_type": "execute_result"
    }
   ],
   "source": [
    "customers.columns"
   ]
  },
  {
   "cell_type": "markdown",
   "id": "0361a1c8",
   "metadata": {},
   "source": [
    "We will select the columns that may be important for this problem and apply some feature engineering to them.\n",
    "\n",
    "The columns used from the Customers dataset are: CustomerId, CustomerStatus, DateOfBirth, EmploymentStatus, MaritalStatus, CustType (Customer Type), Occupation, ResidencyType, SegGroup (Customer segment group), BirthInCorpDate (date the customer was registered in the system), AmlRiskRating (Anti-Money Laundering risk score), and YeNetMonthlyIn (estimated net monthly income)."
   ]
  },
  {
   "cell_type": "code",
   "execution_count": 36,
   "id": "63b9f872",
   "metadata": {},
   "outputs": [],
   "source": [
    "customers=customers[['NewId','DateOfBirth', 'EmploymentStatus','MaritalStatus', 'OcupationDesc','SegGroup','BirthInCorpDate',\"AMLRiskRating\",\"YrNetMonthlyIn\"]]"
   ]
  },
  {
   "cell_type": "markdown",
   "id": "727bea63",
   "metadata": {},
   "source": [
    "- for "
   ]
  },
  {
   "cell_type": "code",
   "execution_count": 38,
   "id": "7a68081c",
   "metadata": {},
   "outputs": [
    {
     "data": {
      "text/html": [
       "<div>\n",
       "<style scoped>\n",
       "    .dataframe tbody tr th:only-of-type {\n",
       "        vertical-align: middle;\n",
       "    }\n",
       "\n",
       "    .dataframe tbody tr th {\n",
       "        vertical-align: top;\n",
       "    }\n",
       "\n",
       "    .dataframe thead th {\n",
       "        text-align: right;\n",
       "    }\n",
       "</style>\n",
       "<table border=\"1\" class=\"dataframe\">\n",
       "  <thead>\n",
       "    <tr style=\"text-align: right;\">\n",
       "      <th></th>\n",
       "      <th>NewId</th>\n",
       "      <th>DateOfBirth</th>\n",
       "      <th>EmploymentStatus</th>\n",
       "      <th>MaritalStatus</th>\n",
       "      <th>OcupationDesc</th>\n",
       "      <th>SegGroup</th>\n",
       "      <th>BirthInCorpDate</th>\n",
       "      <th>AMLRiskRating</th>\n",
       "      <th>YrNetMonthlyIn</th>\n",
       "    </tr>\n",
       "  </thead>\n",
       "  <tbody>\n",
       "    <tr>\n",
       "      <th>122207</th>\n",
       "      <td>122208</td>\n",
       "      <td>1973-01-16</td>\n",
       "      <td>EMPLOYED</td>\n",
       "      <td>DIVORCED</td>\n",
       "      <td>SOCIO/A-GERENTE</td>\n",
       "      <td>Personal</td>\n",
       "      <td>NaN</td>\n",
       "      <td>Baixo</td>\n",
       "      <td>346500.0</td>\n",
       "    </tr>\n",
       "    <tr>\n",
       "      <th>122208</th>\n",
       "      <td>122209</td>\n",
       "      <td>1978-01-10</td>\n",
       "      <td>EMPLOYED</td>\n",
       "      <td>SINGLE</td>\n",
       "      <td>PROFESSOR/A</td>\n",
       "      <td>Personal</td>\n",
       "      <td>NaN</td>\n",
       "      <td>Medio</td>\n",
       "      <td>3000.0</td>\n",
       "    </tr>\n",
       "    <tr>\n",
       "      <th>122209</th>\n",
       "      <td>122210</td>\n",
       "      <td>1964-01-16</td>\n",
       "      <td>MB</td>\n",
       "      <td>DIVORCED</td>\n",
       "      <td>EMPRESARIO/A</td>\n",
       "      <td>Personal</td>\n",
       "      <td>NaN</td>\n",
       "      <td>Baixo</td>\n",
       "      <td>NaN</td>\n",
       "    </tr>\n",
       "    <tr>\n",
       "      <th>122210</th>\n",
       "      <td>122211</td>\n",
       "      <td>NaN</td>\n",
       "      <td>NaN</td>\n",
       "      <td>NaN</td>\n",
       "      <td>NaN</td>\n",
       "      <td>Company</td>\n",
       "      <td>2015-11-20</td>\n",
       "      <td>Baixo</td>\n",
       "      <td>NaN</td>\n",
       "    </tr>\n",
       "    <tr>\n",
       "      <th>122211</th>\n",
       "      <td>122212</td>\n",
       "      <td>2007-07-24</td>\n",
       "      <td>NaN</td>\n",
       "      <td>SINGLE</td>\n",
       "      <td>MENOR DE IDADE</td>\n",
       "      <td>Personal</td>\n",
       "      <td>NaN</td>\n",
       "      <td>Elevado</td>\n",
       "      <td>NaN</td>\n",
       "    </tr>\n",
       "  </tbody>\n",
       "</table>\n",
       "</div>"
      ],
      "text/plain": [
       "         NewId DateOfBirth EmploymentStatus MaritalStatus    OcupationDesc  \\\n",
       "122207  122208  1973-01-16         EMPLOYED      DIVORCED  SOCIO/A-GERENTE   \n",
       "122208  122209  1978-01-10         EMPLOYED        SINGLE      PROFESSOR/A   \n",
       "122209  122210  1964-01-16               MB      DIVORCED     EMPRESARIO/A   \n",
       "122210  122211         NaN              NaN           NaN              NaN   \n",
       "122211  122212  2007-07-24              NaN        SINGLE   MENOR DE IDADE   \n",
       "\n",
       "        SegGroup BirthInCorpDate AMLRiskRating  YrNetMonthlyIn  \n",
       "122207  Personal             NaN         Baixo        346500.0  \n",
       "122208  Personal             NaN         Medio          3000.0  \n",
       "122209  Personal             NaN         Baixo             NaN  \n",
       "122210   Company      2015-11-20         Baixo             NaN  \n",
       "122211  Personal             NaN       Elevado             NaN  "
      ]
     },
     "execution_count": 38,
     "metadata": {},
     "output_type": "execute_result"
    }
   ],
   "source": [
    "customers.tail()"
   ]
  },
  {
   "cell_type": "code",
   "execution_count": 39,
   "id": "60aaafd0",
   "metadata": {},
   "outputs": [],
   "source": [
    "ref_date=pd.to_datetime(\"2024-12-31\")"
   ]
  },
  {
   "cell_type": "code",
   "execution_count": 40,
   "id": "5cc89875",
   "metadata": {},
   "outputs": [
    {
     "data": {
      "text/plain": [
       "Timestamp('2024-12-31 00:00:00')"
      ]
     },
     "execution_count": 40,
     "metadata": {},
     "output_type": "execute_result"
    }
   ],
   "source": [
    "ref_date"
   ]
  },
  {
   "cell_type": "markdown",
   "id": "541067f5",
   "metadata": {},
   "source": [
    "##### 1.1. Age"
   ]
  },
  {
   "cell_type": "markdown",
   "id": "5da8bd48",
   "metadata": {},
   "source": [
    "- Customers who belong to the segment group \"Personal\" have a DateOfBirth, while customers in the \"Company\" segment group have a BirthInCorpDate. To standardise this information, we will calculate the age of each customer at the time of the loan — understanding that for individuals, this means their biological age, and for companies, it refers to the number of years since incorporation."
   ]
  },
  {
   "cell_type": "code",
   "execution_count": 45,
   "id": "bdf1a744",
   "metadata": {},
   "outputs": [],
   "source": [
    "customers[\"DateOfBirth\"]=pd.to_datetime(customers[\"DateOfBirth\"], errors=\"coerce\")\n",
    "customers[\"BirthInCorpDate\"]=pd.to_datetime(customers['BirthInCorpDate'], errors=\"coerce\")"
   ]
  },
  {
   "cell_type": "code",
   "execution_count": null,
   "id": "7550c4ae",
   "metadata": {},
   "outputs": [],
   "source": [
    "customers[\"DateOfBirthFilled\"]=customers[\"DateOfBirth\"].fillna(customers[\"BirthInCorpDate\"])"
   ]
  },
  {
   "cell_type": "code",
   "execution_count": 73,
   "id": "25cad0ae",
   "metadata": {},
   "outputs": [],
   "source": [
    "customers[\"Age\"]=((ref_date-customers[\"DateOfBirthFilled\"]).dt.days // 365).fillna(0).astype(int)"
   ]
  },
  {
   "cell_type": "markdown",
   "id": "c07aff08",
   "metadata": {},
   "source": [
    "##### 1.2. Is_Employed"
   ]
  },
  {
   "cell_type": "code",
   "execution_count": 54,
   "id": "f7efc82c",
   "metadata": {},
   "outputs": [
    {
     "data": {
      "text/plain": [
       "EmploymentStatus\n",
       "EMPLOYED         28955\n",
       "TPE               8809\n",
       "MB                5329\n",
       "LP                3169\n",
       "SELF-EMPLOYED      935\n",
       "UE                 716\n",
       "OTHER              606\n",
       "STUDENT            565\n",
       "RET                319\n",
       "UNEMPLOYED         241\n",
       "RETIRED             25\n",
       "Name: count, dtype: int64"
      ]
     },
     "execution_count": 54,
     "metadata": {},
     "output_type": "execute_result"
    }
   ],
   "source": [
    "customers[\"EmploymentStatus\"].value_counts()"
   ]
  },
  {
   "cell_type": "code",
   "execution_count": 55,
   "id": "c2efa2a8",
   "metadata": {},
   "outputs": [],
   "source": [
    "employed_values = [\"EMPLOYED\", \"SELF-EMPLOYED\", \"TPE\", \"MB\", \"LP\"]\n",
    "customers[\"Is_Employed\"] = customers[\"EmploymentStatus\"].isin(employed_values).astype(int)"
   ]
  },
  {
   "cell_type": "markdown",
   "id": "3e09fee1",
   "metadata": {},
   "source": [
    "##### 1.3. Is_Married"
   ]
  },
  {
   "cell_type": "code",
   "execution_count": 69,
   "id": "c3f481ff",
   "metadata": {},
   "outputs": [],
   "source": [
    "customers[\"Is_Married\"] = customers[\"MaritalStatus\"].isin([\"MARRIED\", \"PARTNER\"]).astype(int)"
   ]
  },
  {
   "cell_type": "markdown",
   "id": "a1321afc",
   "metadata": {},
   "source": [
    "##### 1.4. Remove Nulls"
   ]
  },
  {
   "cell_type": "code",
   "execution_count": 67,
   "id": "e8566dd7",
   "metadata": {},
   "outputs": [],
   "source": [
    "customers=customers[~(customers[\"SegGroup\"].isna())]"
   ]
  },
  {
   "cell_type": "code",
   "execution_count": 71,
   "id": "1e21fec7",
   "metadata": {},
   "outputs": [],
   "source": [
    "customers=customers.rename(columns={\"NewId\":\"CustomerId\"})"
   ]
  },
  {
   "cell_type": "code",
   "execution_count": 76,
   "id": "9876721f",
   "metadata": {},
   "outputs": [],
   "source": [
    "customers_features=customers[[\"CustomerId\",\"SegGroup\",\"AMLRiskRating\",\"YrNetMonthlyIn\",\"Age\",\"Is_Employed\",\"Is_Married\"]]"
   ]
  },
  {
   "cell_type": "code",
   "execution_count": 77,
   "id": "31a02b56",
   "metadata": {},
   "outputs": [
    {
     "data": {
      "text/html": [
       "<div>\n",
       "<style scoped>\n",
       "    .dataframe tbody tr th:only-of-type {\n",
       "        vertical-align: middle;\n",
       "    }\n",
       "\n",
       "    .dataframe tbody tr th {\n",
       "        vertical-align: top;\n",
       "    }\n",
       "\n",
       "    .dataframe thead th {\n",
       "        text-align: right;\n",
       "    }\n",
       "</style>\n",
       "<table border=\"1\" class=\"dataframe\">\n",
       "  <thead>\n",
       "    <tr style=\"text-align: right;\">\n",
       "      <th></th>\n",
       "      <th>CustomerId</th>\n",
       "      <th>SegGroup</th>\n",
       "      <th>AMLRiskRating</th>\n",
       "      <th>YrNetMonthlyIn</th>\n",
       "      <th>Age</th>\n",
       "      <th>Is_Employed</th>\n",
       "      <th>Is_Married</th>\n",
       "    </tr>\n",
       "  </thead>\n",
       "  <tbody>\n",
       "    <tr>\n",
       "      <th>4</th>\n",
       "      <td>5</td>\n",
       "      <td>Company</td>\n",
       "      <td>Medio</td>\n",
       "      <td>NaN</td>\n",
       "      <td>12</td>\n",
       "      <td>1</td>\n",
       "      <td>0</td>\n",
       "    </tr>\n",
       "    <tr>\n",
       "      <th>5</th>\n",
       "      <td>6</td>\n",
       "      <td>Personal</td>\n",
       "      <td>Baixo</td>\n",
       "      <td>NaN</td>\n",
       "      <td>59</td>\n",
       "      <td>1</td>\n",
       "      <td>0</td>\n",
       "    </tr>\n",
       "    <tr>\n",
       "      <th>6</th>\n",
       "      <td>7</td>\n",
       "      <td>Company</td>\n",
       "      <td>Baixo</td>\n",
       "      <td>NaN</td>\n",
       "      <td>43</td>\n",
       "      <td>0</td>\n",
       "      <td>0</td>\n",
       "    </tr>\n",
       "    <tr>\n",
       "      <th>7</th>\n",
       "      <td>8</td>\n",
       "      <td>Personal</td>\n",
       "      <td>Elevado</td>\n",
       "      <td>50000.0</td>\n",
       "      <td>41</td>\n",
       "      <td>0</td>\n",
       "      <td>0</td>\n",
       "    </tr>\n",
       "    <tr>\n",
       "      <th>8</th>\n",
       "      <td>9</td>\n",
       "      <td>Personal</td>\n",
       "      <td>Elevado</td>\n",
       "      <td>0.0</td>\n",
       "      <td>50</td>\n",
       "      <td>0</td>\n",
       "      <td>1</td>\n",
       "    </tr>\n",
       "    <tr>\n",
       "      <th>...</th>\n",
       "      <td>...</td>\n",
       "      <td>...</td>\n",
       "      <td>...</td>\n",
       "      <td>...</td>\n",
       "      <td>...</td>\n",
       "      <td>...</td>\n",
       "      <td>...</td>\n",
       "    </tr>\n",
       "    <tr>\n",
       "      <th>122207</th>\n",
       "      <td>122208</td>\n",
       "      <td>Personal</td>\n",
       "      <td>Baixo</td>\n",
       "      <td>346500.0</td>\n",
       "      <td>51</td>\n",
       "      <td>1</td>\n",
       "      <td>0</td>\n",
       "    </tr>\n",
       "    <tr>\n",
       "      <th>122208</th>\n",
       "      <td>122209</td>\n",
       "      <td>Personal</td>\n",
       "      <td>Medio</td>\n",
       "      <td>3000.0</td>\n",
       "      <td>47</td>\n",
       "      <td>1</td>\n",
       "      <td>0</td>\n",
       "    </tr>\n",
       "    <tr>\n",
       "      <th>122209</th>\n",
       "      <td>122210</td>\n",
       "      <td>Personal</td>\n",
       "      <td>Baixo</td>\n",
       "      <td>NaN</td>\n",
       "      <td>61</td>\n",
       "      <td>1</td>\n",
       "      <td>0</td>\n",
       "    </tr>\n",
       "    <tr>\n",
       "      <th>122210</th>\n",
       "      <td>122211</td>\n",
       "      <td>Company</td>\n",
       "      <td>Baixo</td>\n",
       "      <td>NaN</td>\n",
       "      <td>9</td>\n",
       "      <td>0</td>\n",
       "      <td>0</td>\n",
       "    </tr>\n",
       "    <tr>\n",
       "      <th>122211</th>\n",
       "      <td>122212</td>\n",
       "      <td>Personal</td>\n",
       "      <td>Elevado</td>\n",
       "      <td>NaN</td>\n",
       "      <td>17</td>\n",
       "      <td>0</td>\n",
       "      <td>0</td>\n",
       "    </tr>\n",
       "  </tbody>\n",
       "</table>\n",
       "<p>122205 rows × 7 columns</p>\n",
       "</div>"
      ],
      "text/plain": [
       "        CustomerId  SegGroup AMLRiskRating  YrNetMonthlyIn  Age  Is_Employed  \\\n",
       "4                5   Company         Medio             NaN   12            1   \n",
       "5                6  Personal         Baixo             NaN   59            1   \n",
       "6                7   Company         Baixo             NaN   43            0   \n",
       "7                8  Personal       Elevado         50000.0   41            0   \n",
       "8                9  Personal       Elevado             0.0   50            0   \n",
       "...            ...       ...           ...             ...  ...          ...   \n",
       "122207      122208  Personal         Baixo        346500.0   51            1   \n",
       "122208      122209  Personal         Medio          3000.0   47            1   \n",
       "122209      122210  Personal         Baixo             NaN   61            1   \n",
       "122210      122211   Company         Baixo             NaN    9            0   \n",
       "122211      122212  Personal       Elevado             NaN   17            0   \n",
       "\n",
       "        Is_Married  \n",
       "4                0  \n",
       "5                0  \n",
       "6                0  \n",
       "7                0  \n",
       "8                1  \n",
       "...            ...  \n",
       "122207           0  \n",
       "122208           0  \n",
       "122209           0  \n",
       "122210           0  \n",
       "122211           0  \n",
       "\n",
       "[122205 rows x 7 columns]"
      ]
     },
     "execution_count": 77,
     "metadata": {},
     "output_type": "execute_result"
    }
   ],
   "source": [
    "customers_features\n"
   ]
  }
 ],
 "metadata": {
  "kernelspec": {
   "display_name": "Python 3 (ipykernel)",
   "language": "python",
   "name": "python3"
  },
  "language_info": {
   "codemirror_mode": {
    "name": "ipython",
    "version": 3
   },
   "file_extension": ".py",
   "mimetype": "text/x-python",
   "name": "python",
   "nbconvert_exporter": "python",
   "pygments_lexer": "ipython3",
   "version": "3.11.5"
  }
 },
 "nbformat": 4,
 "nbformat_minor": 5
}
