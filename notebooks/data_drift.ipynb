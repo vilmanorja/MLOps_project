{
 "cells": [
  {
   "cell_type": "code",
   "execution_count": 92,
   "id": "72946e72",
   "metadata": {},
   "outputs": [],
   "source": [
    "import pandas as pd\n",
    "from typing import Any, Optional\n",
    "import pandas as pd\n",
    "import re\n",
    "import os\n",
    "from datetime import datetime,timedelta\n",
    "import seaborn as sns\n",
    "import matplotlib.pyplot as plt\n",
    "from sklearn.model_selection import train_test_split\n",
    "from sklearn.compose import ColumnTransformer\n",
    "from sklearn.pipeline import Pipeline\n",
    "from sklearn.preprocessing import OneHotEncoder, MinMaxScaler\n",
    "from sklearn.linear_model import LogisticRegression\n",
    "from sklearn.ensemble import RandomForestClassifier, GradientBoostingClassifier\n",
    "from sklearn.svm import SVC\n",
    "from sklearn.neighbors import KNeighborsClassifier\n",
    "from xgboost import XGBClassifier\n",
    "from sklearn.metrics import accuracy_score, f1_score, precision_score, recall_score, classification_report\n",
    "\n",
    "from sklearn.model_selection import RandomizedSearchCV\n",
    "import numpy as np\n"
   ]
  },
  {
   "cell_type": "code",
   "execution_count": 2,
   "id": "15c7d08a",
   "metadata": {},
   "outputs": [],
   "source": [
    "full_path = os.getcwd()"
   ]
  },
  {
   "cell_type": "code",
   "execution_count": 44,
   "id": "04e0ea67",
   "metadata": {},
   "outputs": [],
   "source": [
    "import warnings\n",
    "warnings.filterwarnings(\"ignore\")"
   ]
  },
  {
   "cell_type": "markdown",
   "id": "9cffc79d",
   "metadata": {},
   "source": [
    "## 1. Importing the Features dataset"
   ]
  },
  {
   "cell_type": "code",
   "execution_count": 75,
   "id": "74ea67a9",
   "metadata": {},
   "outputs": [],
   "source": [
    "\n",
    "customers = pd.read_csv(full_path.partition('notebooks')[0] + '/data/04_feature/customer_features.csv')\n"
   ]
  },
  {
   "cell_type": "code",
   "execution_count": 76,
   "id": "e815638a",
   "metadata": {},
   "outputs": [
    {
     "data": {
      "text/html": [
       "<div>\n",
       "<style scoped>\n",
       "    .dataframe tbody tr th:only-of-type {\n",
       "        vertical-align: middle;\n",
       "    }\n",
       "\n",
       "    .dataframe tbody tr th {\n",
       "        vertical-align: top;\n",
       "    }\n",
       "\n",
       "    .dataframe thead th {\n",
       "        text-align: right;\n",
       "    }\n",
       "</style>\n",
       "<table border=\"1\" class=\"dataframe\">\n",
       "  <thead>\n",
       "    <tr style=\"text-align: right;\">\n",
       "      <th></th>\n",
       "      <th>CustomerId</th>\n",
       "      <th>CreditType</th>\n",
       "      <th>CreditAmount</th>\n",
       "      <th>Duration_Months</th>\n",
       "      <th>NumberOfInstallmentsToPay</th>\n",
       "      <th>PaymentFrequency</th>\n",
       "      <th>HasDefault</th>\n",
       "      <th>run_date</th>\n",
       "      <th>Avg_Monthly_Income</th>\n",
       "      <th>Income_Stability</th>\n",
       "      <th>...</th>\n",
       "      <th>Previous_Loans_Std</th>\n",
       "      <th>Previous_Loan_Defaults</th>\n",
       "      <th>Active_Loans_Count</th>\n",
       "      <th>Active_Loan_Amount_Total</th>\n",
       "      <th>SegGroup</th>\n",
       "      <th>AMLRiskRating</th>\n",
       "      <th>YrNetMonthlyIn</th>\n",
       "      <th>Age</th>\n",
       "      <th>Is_Employed</th>\n",
       "      <th>Is_Married</th>\n",
       "    </tr>\n",
       "  </thead>\n",
       "  <tbody>\n",
       "    <tr>\n",
       "      <th>9944</th>\n",
       "      <td>59548</td>\n",
       "      <td>Arranged Overdraft</td>\n",
       "      <td>16386.97</td>\n",
       "      <td>7.0</td>\n",
       "      <td>0</td>\n",
       "      <td>Single</td>\n",
       "      <td>0</td>\n",
       "      <td>20240531</td>\n",
       "      <td>65849.126667</td>\n",
       "      <td>26783.075231</td>\n",
       "      <td>...</td>\n",
       "      <td>0.0</td>\n",
       "      <td>0.0</td>\n",
       "      <td>0.0</td>\n",
       "      <td>0.00</td>\n",
       "      <td>Personal</td>\n",
       "      <td>Baixo</td>\n",
       "      <td>40967.43</td>\n",
       "      <td>39</td>\n",
       "      <td>1</td>\n",
       "      <td>0</td>\n",
       "    </tr>\n",
       "    <tr>\n",
       "      <th>9945</th>\n",
       "      <td>15865</td>\n",
       "      <td>Arranged Overdraft</td>\n",
       "      <td>6135.25</td>\n",
       "      <td>15.0</td>\n",
       "      <td>0</td>\n",
       "      <td>Single</td>\n",
       "      <td>0</td>\n",
       "      <td>20240531</td>\n",
       "      <td>16478.256667</td>\n",
       "      <td>2177.052809</td>\n",
       "      <td>...</td>\n",
       "      <td>0.0</td>\n",
       "      <td>0.0</td>\n",
       "      <td>1.0</td>\n",
       "      <td>91214.44</td>\n",
       "      <td>Personal</td>\n",
       "      <td>Baixo</td>\n",
       "      <td>12270.50</td>\n",
       "      <td>33</td>\n",
       "      <td>1</td>\n",
       "      <td>0</td>\n",
       "    </tr>\n",
       "    <tr>\n",
       "      <th>9946</th>\n",
       "      <td>374</td>\n",
       "      <td>Unarranged Overdraft</td>\n",
       "      <td>3.62</td>\n",
       "      <td>0.0</td>\n",
       "      <td>0</td>\n",
       "      <td>Single</td>\n",
       "      <td>0</td>\n",
       "      <td>20240531</td>\n",
       "      <td>13186.590000</td>\n",
       "      <td>0.000000</td>\n",
       "      <td>...</td>\n",
       "      <td>0.0</td>\n",
       "      <td>0.0</td>\n",
       "      <td>0.0</td>\n",
       "      <td>0.00</td>\n",
       "      <td>Personal</td>\n",
       "      <td>Baixo</td>\n",
       "      <td>12905.44</td>\n",
       "      <td>39</td>\n",
       "      <td>1</td>\n",
       "      <td>0</td>\n",
       "    </tr>\n",
       "    <tr>\n",
       "      <th>9947</th>\n",
       "      <td>41075</td>\n",
       "      <td>Personal Credit</td>\n",
       "      <td>474621.32</td>\n",
       "      <td>60.0</td>\n",
       "      <td>62</td>\n",
       "      <td>Monthly</td>\n",
       "      <td>1</td>\n",
       "      <td>20240531</td>\n",
       "      <td>10000.000000</td>\n",
       "      <td>0.000000</td>\n",
       "      <td>...</td>\n",
       "      <td>0.0</td>\n",
       "      <td>0.0</td>\n",
       "      <td>0.0</td>\n",
       "      <td>0.00</td>\n",
       "      <td>Personal</td>\n",
       "      <td>Baixo</td>\n",
       "      <td>48786.00</td>\n",
       "      <td>35</td>\n",
       "      <td>1</td>\n",
       "      <td>0</td>\n",
       "    </tr>\n",
       "    <tr>\n",
       "      <th>9948</th>\n",
       "      <td>39475</td>\n",
       "      <td>Unarranged Overdraft</td>\n",
       "      <td>8.16</td>\n",
       "      <td>0.0</td>\n",
       "      <td>0</td>\n",
       "      <td>Single</td>\n",
       "      <td>0</td>\n",
       "      <td>20240531</td>\n",
       "      <td>0.000000</td>\n",
       "      <td>0.000000</td>\n",
       "      <td>...</td>\n",
       "      <td>0.0</td>\n",
       "      <td>0.0</td>\n",
       "      <td>0.0</td>\n",
       "      <td>0.00</td>\n",
       "      <td>Personal</td>\n",
       "      <td>Baixo</td>\n",
       "      <td>18500.00</td>\n",
       "      <td>24</td>\n",
       "      <td>1</td>\n",
       "      <td>0</td>\n",
       "    </tr>\n",
       "  </tbody>\n",
       "</table>\n",
       "<p>5 rows × 26 columns</p>\n",
       "</div>"
      ],
      "text/plain": [
       "      CustomerId            CreditType  CreditAmount  Duration_Months  \\\n",
       "9944       59548    Arranged Overdraft      16386.97              7.0   \n",
       "9945       15865    Arranged Overdraft       6135.25             15.0   \n",
       "9946         374  Unarranged Overdraft          3.62              0.0   \n",
       "9947       41075       Personal Credit     474621.32             60.0   \n",
       "9948       39475  Unarranged Overdraft          8.16              0.0   \n",
       "\n",
       "      NumberOfInstallmentsToPay PaymentFrequency  HasDefault  run_date  \\\n",
       "9944                          0           Single           0  20240531   \n",
       "9945                          0           Single           0  20240531   \n",
       "9946                          0           Single           0  20240531   \n",
       "9947                         62          Monthly           1  20240531   \n",
       "9948                          0           Single           0  20240531   \n",
       "\n",
       "      Avg_Monthly_Income  Income_Stability  ...  Previous_Loans_Std  \\\n",
       "9944        65849.126667      26783.075231  ...                 0.0   \n",
       "9945        16478.256667       2177.052809  ...                 0.0   \n",
       "9946        13186.590000          0.000000  ...                 0.0   \n",
       "9947        10000.000000          0.000000  ...                 0.0   \n",
       "9948            0.000000          0.000000  ...                 0.0   \n",
       "\n",
       "      Previous_Loan_Defaults  Active_Loans_Count  Active_Loan_Amount_Total  \\\n",
       "9944                     0.0                 0.0                      0.00   \n",
       "9945                     0.0                 1.0                  91214.44   \n",
       "9946                     0.0                 0.0                      0.00   \n",
       "9947                     0.0                 0.0                      0.00   \n",
       "9948                     0.0                 0.0                      0.00   \n",
       "\n",
       "      SegGroup  AMLRiskRating  YrNetMonthlyIn  Age  Is_Employed  Is_Married  \n",
       "9944  Personal          Baixo        40967.43   39            1           0  \n",
       "9945  Personal          Baixo        12270.50   33            1           0  \n",
       "9946  Personal          Baixo        12905.44   39            1           0  \n",
       "9947  Personal          Baixo        48786.00   35            1           0  \n",
       "9948  Personal          Baixo        18500.00   24            1           0  \n",
       "\n",
       "[5 rows x 26 columns]"
      ]
     },
     "execution_count": 76,
     "metadata": {},
     "output_type": "execute_result"
    }
   ],
   "source": [
    "customers.tail()\n"
   ]
  },
  {
   "cell_type": "code",
   "execution_count": 16,
   "id": "68d4363b",
   "metadata": {},
   "outputs": [
    {
     "data": {
      "text/plain": [
       "Index(['CustomerId', 'CreditType', 'CreditAmount', 'Duration_Months',\n",
       "       'NumberOfInstallmentsToPay', 'PaymentFrequency', 'HasDefault',\n",
       "       'run_date', 'Avg_Monthly_Income', 'Income_Stability',\n",
       "       'Avg_Monthly_expenses', 'Expenses_Stability', 'Avg_Monthly_Funds',\n",
       "       'Funds_Stability', 'Previous_Loan_Count', 'Previous_Loans_Avg_Amount',\n",
       "       'Previous_Loans_Std', 'Previous_Loan_Defaults', 'Active_Loans_Count',\n",
       "       'Active_Loan_Amount_Total', 'SegGroup', 'AMLRiskRating',\n",
       "       'YrNetMonthlyIn', 'Age', 'Is_Employed', 'Is_Married'],\n",
       "      dtype='object')"
      ]
     },
     "execution_count": 16,
     "metadata": {},
     "output_type": "execute_result"
    }
   ],
   "source": [
    "customers.columns"
   ]
  },
  {
   "cell_type": "code",
   "execution_count": 65,
   "id": "4ea543d8",
   "metadata": {},
   "outputs": [
    {
     "data": {
      "text/plain": [
       "HasDefault\n",
       "0    7434\n",
       "1    2515\n",
       "Name: count, dtype: int64"
      ]
     },
     "execution_count": 65,
     "metadata": {},
     "output_type": "execute_result"
    }
   ],
   "source": [
    "customers[\"HasDefault\"].value_counts()"
   ]
  },
  {
   "cell_type": "markdown",
   "id": "6658bae8",
   "metadata": {},
   "source": [
    "- Checking the target value"
   ]
  },
  {
   "cell_type": "code",
   "execution_count": 77,
   "id": "9d96c2ea",
   "metadata": {},
   "outputs": [
    {
     "data": {
      "image/png": "[encoded data removed]",
      "text/plain": [
       "<Figure size 640x480 with 1 Axes>"
      ]
     },
     "metadata": {},
     "output_type": "display_data"
    }
   ],
   "source": [
    "sns.countplot(data=customers,x=\"HasDefault\")\n",
    "plt.title(\"Number of instances per class\")\n",
    "plt.xlabel('Class')\n",
    "plt.ylabel(\"Count\")\n",
    "plt.show()\n"
   ]
  },
  {
   "cell_type": "markdown",
   "id": "8aa4aafc",
   "metadata": {},
   "source": [
    "- Defining X and y"
   ]
  },
  {
   "cell_type": "code",
   "execution_count": 78,
   "id": "3143b1d4",
   "metadata": {},
   "outputs": [],
   "source": [
    "X=customers.drop('HasDefault',axis=1)\n",
    "y=customers['HasDefault']"
   ]
  },
  {
   "cell_type": "code",
   "execution_count": 79,
   "id": "bf98f286",
   "metadata": {},
   "outputs": [
    {
     "data": {
      "text/html": [
       "<div>\n",
       "<style scoped>\n",
       "    .dataframe tbody tr th:only-of-type {\n",
       "        vertical-align: middle;\n",
       "    }\n",
       "\n",
       "    .dataframe tbody tr th {\n",
       "        vertical-align: top;\n",
       "    }\n",
       "\n",
       "    .dataframe thead th {\n",
       "        text-align: right;\n",
       "    }\n",
       "</style>\n",
       "<table border=\"1\" class=\"dataframe\">\n",
       "  <thead>\n",
       "    <tr style=\"text-align: right;\">\n",
       "      <th></th>\n",
       "      <th>CustomerId</th>\n",
       "      <th>CreditType</th>\n",
       "      <th>CreditAmount</th>\n",
       "      <th>Duration_Months</th>\n",
       "      <th>NumberOfInstallmentsToPay</th>\n",
       "      <th>PaymentFrequency</th>\n",
       "      <th>run_date</th>\n",
       "      <th>Avg_Monthly_Income</th>\n",
       "      <th>Income_Stability</th>\n",
       "      <th>Avg_Monthly_expenses</th>\n",
       "      <th>...</th>\n",
       "      <th>Previous_Loans_Std</th>\n",
       "      <th>Previous_Loan_Defaults</th>\n",
       "      <th>Active_Loans_Count</th>\n",
       "      <th>Active_Loan_Amount_Total</th>\n",
       "      <th>SegGroup</th>\n",
       "      <th>AMLRiskRating</th>\n",
       "      <th>YrNetMonthlyIn</th>\n",
       "      <th>Age</th>\n",
       "      <th>Is_Employed</th>\n",
       "      <th>Is_Married</th>\n",
       "    </tr>\n",
       "  </thead>\n",
       "  <tbody>\n",
       "    <tr>\n",
       "      <th>0</th>\n",
       "      <td>61989</td>\n",
       "      <td>Credit Card</td>\n",
       "      <td>650000.0</td>\n",
       "      <td>36.0</td>\n",
       "      <td>0</td>\n",
       "      <td>Monthly</td>\n",
       "      <td>20230630</td>\n",
       "      <td>3.088140e+06</td>\n",
       "      <td>4.465342e+06</td>\n",
       "      <td>2.381424e+07</td>\n",
       "      <td>...</td>\n",
       "      <td>0.000000</td>\n",
       "      <td>0.0</td>\n",
       "      <td>0.0</td>\n",
       "      <td>0.0</td>\n",
       "      <td>Personal</td>\n",
       "      <td>Elevado</td>\n",
       "      <td>1000000.00</td>\n",
       "      <td>64</td>\n",
       "      <td>1</td>\n",
       "      <td>1</td>\n",
       "    </tr>\n",
       "    <tr>\n",
       "      <th>1</th>\n",
       "      <td>75075</td>\n",
       "      <td>Credit Card</td>\n",
       "      <td>130000.0</td>\n",
       "      <td>36.0</td>\n",
       "      <td>0</td>\n",
       "      <td>Monthly</td>\n",
       "      <td>20230630</td>\n",
       "      <td>8.468346e+05</td>\n",
       "      <td>1.606619e+06</td>\n",
       "      <td>2.438573e+05</td>\n",
       "      <td>...</td>\n",
       "      <td>17320.508076</td>\n",
       "      <td>0.0</td>\n",
       "      <td>0.0</td>\n",
       "      <td>0.0</td>\n",
       "      <td>Personal</td>\n",
       "      <td>Baixo</td>\n",
       "      <td>0.00</td>\n",
       "      <td>47</td>\n",
       "      <td>0</td>\n",
       "      <td>1</td>\n",
       "    </tr>\n",
       "    <tr>\n",
       "      <th>2</th>\n",
       "      <td>79216</td>\n",
       "      <td>Credit Card</td>\n",
       "      <td>100000.0</td>\n",
       "      <td>36.0</td>\n",
       "      <td>0</td>\n",
       "      <td>Monthly</td>\n",
       "      <td>20230630</td>\n",
       "      <td>2.953333e+05</td>\n",
       "      <td>1.955130e+05</td>\n",
       "      <td>2.507907e+05</td>\n",
       "      <td>...</td>\n",
       "      <td>0.000000</td>\n",
       "      <td>0.0</td>\n",
       "      <td>0.0</td>\n",
       "      <td>0.0</td>\n",
       "      <td>Personal</td>\n",
       "      <td>Baixo</td>\n",
       "      <td>224227.75</td>\n",
       "      <td>70</td>\n",
       "      <td>1</td>\n",
       "      <td>1</td>\n",
       "    </tr>\n",
       "    <tr>\n",
       "      <th>3</th>\n",
       "      <td>96717</td>\n",
       "      <td>Credit Card</td>\n",
       "      <td>750000.0</td>\n",
       "      <td>36.0</td>\n",
       "      <td>0</td>\n",
       "      <td>Monthly</td>\n",
       "      <td>20230630</td>\n",
       "      <td>9.513645e+05</td>\n",
       "      <td>6.054409e+05</td>\n",
       "      <td>1.157047e+06</td>\n",
       "      <td>...</td>\n",
       "      <td>0.000000</td>\n",
       "      <td>0.0</td>\n",
       "      <td>0.0</td>\n",
       "      <td>0.0</td>\n",
       "      <td>Personal</td>\n",
       "      <td>Baixo</td>\n",
       "      <td>6000000.00</td>\n",
       "      <td>46</td>\n",
       "      <td>1</td>\n",
       "      <td>1</td>\n",
       "    </tr>\n",
       "    <tr>\n",
       "      <th>4</th>\n",
       "      <td>96717</td>\n",
       "      <td>Credit Card</td>\n",
       "      <td>750000.0</td>\n",
       "      <td>36.0</td>\n",
       "      <td>0</td>\n",
       "      <td>Monthly</td>\n",
       "      <td>20230630</td>\n",
       "      <td>9.513645e+05</td>\n",
       "      <td>6.054409e+05</td>\n",
       "      <td>1.157047e+06</td>\n",
       "      <td>...</td>\n",
       "      <td>0.000000</td>\n",
       "      <td>0.0</td>\n",
       "      <td>0.0</td>\n",
       "      <td>0.0</td>\n",
       "      <td>Personal</td>\n",
       "      <td>Baixo</td>\n",
       "      <td>6000000.00</td>\n",
       "      <td>46</td>\n",
       "      <td>1</td>\n",
       "      <td>1</td>\n",
       "    </tr>\n",
       "  </tbody>\n",
       "</table>\n",
       "<p>5 rows × 25 columns</p>\n",
       "</div>"
      ],
      "text/plain": [
       "   CustomerId   CreditType  CreditAmount  Duration_Months  \\\n",
       "0       61989  Credit Card      650000.0             36.0   \n",
       "1       75075  Credit Card      130000.0             36.0   \n",
       "2       79216  Credit Card      100000.0             36.0   \n",
       "3       96717  Credit Card      750000.0             36.0   \n",
       "4       96717  Credit Card      750000.0             36.0   \n",
       "\n",
       "   NumberOfInstallmentsToPay PaymentFrequency  run_date  Avg_Monthly_Income  \\\n",
       "0                          0          Monthly  20230630        3.088140e+06   \n",
       "1                          0          Monthly  20230630        8.468346e+05   \n",
       "2                          0          Monthly  20230630        2.953333e+05   \n",
       "3                          0          Monthly  20230630        9.513645e+05   \n",
       "4                          0          Monthly  20230630        9.513645e+05   \n",
       "\n",
       "   Income_Stability  Avg_Monthly_expenses  ...  Previous_Loans_Std  \\\n",
       "0      4.465342e+06          2.381424e+07  ...            0.000000   \n",
       "1      1.606619e+06          2.438573e+05  ...        17320.508076   \n",
       "2      1.955130e+05          2.507907e+05  ...            0.000000   \n",
       "3      6.054409e+05          1.157047e+06  ...            0.000000   \n",
       "4      6.054409e+05          1.157047e+06  ...            0.000000   \n",
       "\n",
       "   Previous_Loan_Defaults  Active_Loans_Count  Active_Loan_Amount_Total  \\\n",
       "0                     0.0                 0.0                       0.0   \n",
       "1                     0.0                 0.0                       0.0   \n",
       "2                     0.0                 0.0                       0.0   \n",
       "3                     0.0                 0.0                       0.0   \n",
       "4                     0.0                 0.0                       0.0   \n",
       "\n",
       "   SegGroup  AMLRiskRating  YrNetMonthlyIn  Age  Is_Employed Is_Married  \n",
       "0  Personal        Elevado      1000000.00   64            1          1  \n",
       "1  Personal          Baixo            0.00   47            0          1  \n",
       "2  Personal          Baixo       224227.75   70            1          1  \n",
       "3  Personal          Baixo      6000000.00   46            1          1  \n",
       "4  Personal          Baixo      6000000.00   46            1          1  \n",
       "\n",
       "[5 rows x 25 columns]"
      ]
     },
     "execution_count": 79,
     "metadata": {},
     "output_type": "execute_result"
    }
   ],
   "source": [
    "X.head()"
   ]
  },
  {
   "cell_type": "code",
   "execution_count": 80,
   "id": "ef8de386",
   "metadata": {},
   "outputs": [
    {
     "data": {
      "text/plain": [
       "0    0\n",
       "1    0\n",
       "2    0\n",
       "3    0\n",
       "4    0\n",
       "Name: HasDefault, dtype: int64"
      ]
     },
     "execution_count": 80,
     "metadata": {},
     "output_type": "execute_result"
    }
   ],
   "source": [
    "y.head()"
   ]
  },
  {
   "cell_type": "markdown",
   "id": "192fbc9a",
   "metadata": {},
   "source": [
    "## 2. Splitting the data"
   ]
  },
  {
   "cell_type": "code",
   "execution_count": 81,
   "id": "50d8a400",
   "metadata": {},
   "outputs": [],
   "source": [
    "X_train, X_test, y_train, y_test=train_test_split(X,y,test_size=0.2, random_state=42)"
   ]
  },
  {
   "cell_type": "markdown",
   "id": "2a030903",
   "metadata": {},
   "source": [
    "## 3. Transforming variables\n"
   ]
  },
  {
   "cell_type": "code",
   "execution_count": 82,
   "id": "d24f861c",
   "metadata": {},
   "outputs": [
    {
     "data": {
      "text/plain": [
       "['CreditType', 'PaymentFrequency', 'SegGroup', 'AMLRiskRating']"
      ]
     },
     "execution_count": 82,
     "metadata": {},
     "output_type": "execute_result"
    }
   ],
   "source": [
    "categorical_cols=X.select_dtypes(include='object').columns.tolist()\n",
    "categorical_cols"
   ]
  },
  {
   "cell_type": "markdown",
   "id": "34065689",
   "metadata": {},
   "source": [
    "- NumberOfInstallmentsToPay"
   ]
  },
  {
   "cell_type": "code",
   "execution_count": 83,
   "id": "d390b649",
   "metadata": {},
   "outputs": [
    {
     "data": {
      "text/plain": [
       "NumberOfInstallmentsToPay\n",
       "0      9084\n",
       "61      353\n",
       "62      213\n",
       "1        49\n",
       "63       48\n",
       "37       38\n",
       "25       36\n",
       "13       17\n",
       "49       13\n",
       "50       11\n",
       "38       10\n",
       "2        10\n",
       "19        8\n",
       "26        6\n",
       "31        5\n",
       "51        5\n",
       "39        5\n",
       "14        3\n",
       "12        3\n",
       "86        3\n",
       "27        3\n",
       "9         2\n",
       "7         2\n",
       "60        2\n",
       "18        2\n",
       "43        1\n",
       "66        1\n",
       "20        1\n",
       "245       1\n",
       "11        1\n",
       "21        1\n",
       "98        1\n",
       "6         1\n",
       "326       1\n",
       "56        1\n",
       "45        1\n",
       "32        1\n",
       "28        1\n",
       "4         1\n",
       "17        1\n",
       "183       1\n",
       "42        1\n",
       "29        1\n",
       "Name: count, dtype: int64"
      ]
     },
     "execution_count": 83,
     "metadata": {},
     "output_type": "execute_result"
    }
   ],
   "source": [
    "X[\"NumberOfInstallmentsToPay\"].value_counts()"
   ]
  },
  {
   "cell_type": "code",
   "execution_count": null,
   "id": "2905aacf",
   "metadata": {},
   "outputs": [],
   "source": []
  },
  {
   "cell_type": "markdown",
   "id": "926126ba",
   "metadata": {},
   "source": [
    "- Categorical columns"
   ]
  },
  {
   "cell_type": "code",
   "execution_count": 84,
   "id": "e6fa2042",
   "metadata": {},
   "outputs": [
    {
     "data": {
      "text/plain": [
       "['CreditType', 'PaymentFrequency', 'SegGroup', 'AMLRiskRating']"
      ]
     },
     "execution_count": 84,
     "metadata": {},
     "output_type": "execute_result"
    }
   ],
   "source": [
    "categorical_cols=X.select_dtypes(include='object').columns.tolist()\n",
    "categorical_cols"
   ]
  },
  {
   "cell_type": "markdown",
   "id": "0e3d1473",
   "metadata": {},
   "source": [
    "- Numerical columns"
   ]
  },
  {
   "cell_type": "code",
   "execution_count": 85,
   "id": "72f5d1ff",
   "metadata": {},
   "outputs": [],
   "source": [
    "numerical_cols=X.select_dtypes(include=[int,float]).columns.tolist()"
   ]
  },
  {
   "cell_type": "code",
   "execution_count": 87,
   "id": "6894b29c",
   "metadata": {},
   "outputs": [
    {
     "name": "stdout",
     "output_type": "stream",
     "text": [
      "\n",
      "LogisticRegression\n",
      "Accuracy: 0.756\n",
      "Precision: 0.514\n",
      "Recall: 0.037\n",
      "F1 Score: 0.069\n",
      "              precision    recall  f1-score   support\n",
      "\n",
      "           0       0.76      0.99      0.86      1503\n",
      "           1       0.51      0.04      0.07       487\n",
      "\n",
      "    accuracy                           0.76      1990\n",
      "   macro avg       0.64      0.51      0.46      1990\n",
      "weighted avg       0.70      0.76      0.67      1990\n",
      "\n",
      "\n",
      "Random Forest\n",
      "Accuracy: 0.814\n",
      "Precision: 0.682\n",
      "Recall: 0.446\n",
      "F1 Score: 0.539\n",
      "              precision    recall  f1-score   support\n",
      "\n",
      "           0       0.84      0.93      0.88      1503\n",
      "           1       0.68      0.45      0.54       487\n",
      "\n",
      "    accuracy                           0.81      1990\n",
      "   macro avg       0.76      0.69      0.71      1990\n",
      "weighted avg       0.80      0.81      0.80      1990\n",
      "\n",
      "\n",
      "SVM\n",
      "Accuracy: 0.757\n",
      "Precision: 0.543\n",
      "Recall: 0.039\n",
      "F1 Score: 0.073\n",
      "              precision    recall  f1-score   support\n",
      "\n",
      "           0       0.76      0.99      0.86      1503\n",
      "           1       0.54      0.04      0.07       487\n",
      "\n",
      "    accuracy                           0.76      1990\n",
      "   macro avg       0.65      0.51      0.47      1990\n",
      "weighted avg       0.71      0.76      0.67      1990\n",
      "\n",
      "\n",
      "XGBoost\n",
      "Accuracy: 0.775\n",
      "Precision: 0.533\n",
      "Recall: 0.655\n",
      "F1 Score: 0.587\n",
      "              precision    recall  f1-score   support\n",
      "\n",
      "           0       0.88      0.81      0.85      1503\n",
      "           1       0.53      0.66      0.59       487\n",
      "\n",
      "    accuracy                           0.77      1990\n",
      "   macro avg       0.71      0.73      0.72      1990\n",
      "weighted avg       0.79      0.77      0.78      1990\n",
      "\n",
      "\n",
      "Gradient Boosting\n",
      "Accuracy: 0.804\n",
      "Precision: 0.678\n",
      "Recall: 0.380\n",
      "F1 Score: 0.487\n",
      "              precision    recall  f1-score   support\n",
      "\n",
      "           0       0.82      0.94      0.88      1503\n",
      "           1       0.68      0.38      0.49       487\n",
      "\n",
      "    accuracy                           0.80      1990\n",
      "   macro avg       0.75      0.66      0.68      1990\n",
      "weighted avg       0.79      0.80      0.78      1990\n",
      "\n"
     ]
    }
   ],
   "source": [
    "preprocessor=ColumnTransformer(\n",
    "    transformers=[\n",
    "        ('num', MinMaxScaler(), numerical_cols),\n",
    "        ('cat',OneHotEncoder(handle_unknown='ignore'), categorical_cols)\n",
    "    ]\n",
    ")\n",
    "\n",
    "\n",
    "preprocessor.fit(X_train)\n",
    "models={\n",
    "    'LogisticRegression': LogisticRegression(),\n",
    "    'Random Forest' : RandomForestClassifier(),\n",
    "    'SVM': SVC(),\n",
    "    'XGBoost': XGBClassifier(use_label_encoder=False, eval_metrics='logloss', scale_pos_weight=3.09),\n",
    "    'Gradient Boosting' : GradientBoostingClassifier()\n",
    "}\n",
    "\n",
    "for name, model in models.items():\n",
    "    pipeline=Pipeline(steps=[\n",
    "        ('preprocessing', preprocessor),\n",
    "        ('classifier',model)\n",
    "    ])\n",
    "\n",
    "    pipeline.fit(X_train, y_train)\n",
    "    y_pred=pipeline.predict(X_test)\n",
    "    print(f\"\\n{name}\")\n",
    "    print(f\"Accuracy: {accuracy_score(y_test,y_pred):.3f}\")\n",
    "    print(f\"Precision: {precision_score(y_test,y_pred):.3f}\")\n",
    "    print(f\"Recall: {recall_score(y_test,y_pred):.3f}\")\n",
    "    print(f\"F1 Score: {f1_score(y_test,y_pred):.3f}\")\n",
    "    print(classification_report(y_test,y_pred))\n",
    "\n"
   ]
  },
  {
   "cell_type": "markdown",
   "id": "67db572a",
   "metadata": {},
   "source": []
  },
  {
   "cell_type": "markdown",
   "id": "c3aa2a41",
   "metadata": {},
   "source": [
    "- Hyperparameter tunning"
   ]
  },
  {
   "cell_type": "code",
   "execution_count": 93,
   "id": "649ff7e4",
   "metadata": {},
   "outputs": [],
   "source": [
    "\n",
    "#  Class imbalance ratio \n",
    "neg, pos = np.bincount(y_train)\n",
    "scale_pos_weight = neg / pos"
   ]
  },
  {
   "cell_type": "code",
   "execution_count": 95,
   "id": "f35c220d",
   "metadata": {},
   "outputs": [
    {
     "name": "stdout",
     "output_type": "stream",
     "text": [
      "Fitting 3 folds for each of 20 candidates, totalling 60 fits\n",
      "Best parameters: {'classifier__subsample': 0.8, 'classifier__n_estimators': 500, 'classifier__max_depth': 3, 'classifier__learning_rate': 0.05, 'classifier__colsample_bytree': 0.8}\n",
      "\n",
      "Classification Report (Test Set):\n",
      "              precision    recall  f1-score   support\n",
      "\n",
      "           0       0.92      0.72      0.81      1503\n",
      "           1       0.49      0.81      0.61       487\n",
      "\n",
      "    accuracy                           0.75      1990\n",
      "   macro avg       0.70      0.77      0.71      1990\n",
      "weighted avg       0.82      0.75      0.76      1990\n",
      "\n"
     ]
    }
   ],
   "source": [
    "# --- XGBoost classifier ---\n",
    "xgb_clf = XGBClassifier(\n",
    "    use_label_encoder=False,\n",
    "    eval_metric='logloss',\n",
    "    scale_pos_weight=scale_pos_weight,\n",
    "    random_state=42\n",
    ")\n",
    "\n",
    "# --- Hyperparameter grid ---\n",
    "param_dist = {\n",
    "    'classifier__n_estimators': [200, 300,500,1000],\n",
    "    'classifier__max_depth': [3, 5, 7, 9],\n",
    "    'classifier__learning_rate': [0.01, 0.05, 0.1],\n",
    "    'classifier__subsample': [0.6, 0.8, 1.0],\n",
    "    'classifier__colsample_bytree': [0.6, 0.8, 1.0]\n",
    "}\n",
    "\n",
    "# --- Pipeline ---\n",
    "pipeline = Pipeline(steps=[\n",
    "    ('preprocessing', preprocessor),\n",
    "    ('classifier', xgb_clf)\n",
    "])\n",
    "\n",
    "# --- Randomized Search CV ---\n",
    "random_search = RandomizedSearchCV(\n",
    "    pipeline,\n",
    "    param_distributions=param_dist,\n",
    "    n_iter=20,\n",
    "    scoring='f1',\n",
    "    cv=3,\n",
    "    verbose=1,\n",
    "    n_jobs=-1,\n",
    "    random_state=42\n",
    ")\n",
    "\n",
    "# --- Fit search ---\n",
    "random_search.fit(X_train, y_train)\n",
    "\n",
    "# --- Best model ---\n",
    "best_model = random_search.best_estimator_\n",
    "print(\"Best parameters:\", random_search.best_params_)\n",
    "\n",
    "# --- Evaluate on test set ---\n",
    "y_pred = best_model.predict(X_test)\n",
    "print(\"\\nClassification Report (Test Set):\")\n",
    "print(classification_report(y_test, y_pred))"
   ]
  }
 ],
 "metadata": {
  "kernelspec": {
   "display_name": "Python 3 (ipykernel)",
   "language": "python",
   "name": "python3"
  },
  "language_info": {
   "codemirror_mode": {
    "name": "ipython",
    "version": 3
   },
   "file_extension": ".py",
   "mimetype": "text/x-python",
   "name": "python",
   "nbconvert_exporter": "python",
   "pygments_lexer": "ipython3",
   "version": "3.11.5"
  }
 },
 "nbformat": 4,
 "nbformat_minor": 5
}
